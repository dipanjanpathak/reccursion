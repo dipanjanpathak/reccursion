{
 "cells": [
  {
   "cell_type": "code",
   "execution_count": null,
   "id": "66e2a4f6-ea42-48d6-b28d-55d367e9dac2",
   "metadata": {},
   "outputs": [],
   "source": [
    "1. Find the value of T(2) for the recurrence relation T(n) = 3T(n-1) + 12n, given that T(0)=5."
   ]
  },
  {
   "cell_type": "code",
   "execution_count": null,
   "id": "13fbc156-dadf-496e-969d-58727b06d9d1",
   "metadata": {},
   "outputs": [],
   "source": [
    "T(0) = 5\n",
    "\n",
    "T(1) = 3 * T(0) + 12 * 1 = 3 * 5 + 12 = 15 + 12 = 27\n",
    "\n",
    "T(2) = 3 * T(1) + 12 * 2 = 3 * 27 + 12 * 2 = 81 + 24 = 105\n"
   ]
  },
  {
   "cell_type": "code",
   "execution_count": null,
   "id": "6bc5a6f4-f73c-4e41-8291-71d51e65cc66",
   "metadata": {},
   "outputs": [],
   "source": [
    "2. Given a rec%rrence relation, solve it %sing the s%bstit%tion method:\n",
    "a. T(n) = T(n-1) + c"
   ]
  },
  {
   "cell_type": "code",
   "execution_count": null,
   "id": "d27c8ebf-b7d4-4d45-99fb-ff6783049759",
   "metadata": {},
   "outputs": [],
   "source": [
    "T(n) = T(n-1)+c\n",
    "T(n-1) = T(n-2)+c\n",
    "\n",
    "T(n) = T(n-2)+2c\n",
    "T(n-1) = T(n-3)+2c\n",
    "T(n)= T(n-3)+3c\n",
    "\n",
    "for k times\n",
    "T(n-k)+3k\n",
    "\n",
    "T(n) = T(n-(n-1)+3(n-1))\n",
    "T(n) = T(1) +3n -3\n",
    "\n",
    "so, T(n)= O(n)"
   ]
  },
  {
   "cell_type": "code",
   "execution_count": null,
   "id": "2fefbcdc-7123-4931-9df3-1bd9e19e9b0c",
   "metadata": {},
   "outputs": [],
   "source": [
    "b. T(n) = 2T(n/2) + n"
   ]
  },
  {
   "cell_type": "code",
   "execution_count": null,
   "id": "2d15c145-7eb0-4afd-931f-a293e905e832",
   "metadata": {},
   "outputs": [],
   "source": [
    "1. Given Recurrence Relation:\n",
    "   T(n) = 2T(n/2) + n\n",
    "\n",
    "2. Iterations:\n",
    "   - At the first iteration:\n",
    "     T(n/2) = 2T(n/4) + n/2\n",
    "   - At the second iteration:\n",
    "     T(n/4) = 2T(n/8) + n/4\n",
    "   - At the third iteration:\n",
    "     T(n/8) = 2T(n/16) + n/8\n",
    "   - Continuing this pattern...\n",
    "\n",
    "3. At the kth Iteration:\n",
    "   T(n/2^(k-1)) = 2T(n/2^k) + n/2^(k-1)\n",
    "\n",
    "4. Finding the Base Case:\n",
    "   - The base case is T(1), where n/2^k = 1.\n",
    "   - Solving for k:\n",
    "     n/2^k = 1\n",
    "     n = 2^k\n",
    "     log2(n) = k\n",
    "\n",
    "5. Number of Iterations (k):\n",
    "   - log2(n) iterations are required to reach the base case.\n",
    "\n",
    "\n",
    "\n",
    "7. Time Complexity:\n",
    "   - The time complexity of the iterative solution is O(n log n).\n"
   ]
  },
  {
   "cell_type": "code",
   "execution_count": null,
   "id": "62aeeb9e-63b9-40b9-bc02-87c28eb0dec7",
   "metadata": {},
   "outputs": [],
   "source": [
    "c. T(n) = 2T(n/2) + c"
   ]
  },
  {
   "cell_type": "code",
   "execution_count": null,
   "id": "9aa12cb2-0680-4dec-9bdf-46caf0009e15",
   "metadata": {},
   "outputs": [],
   "source": [
    "Recurrence Relation: T(n) = 2T(n/2) + c\n",
    "\n",
    "1. Given Recurrence Relation:\n",
    "   T(n) = 2T(n/2) + c\n",
    "\n",
    "2. Iterations:\n",
    "   - After the first iteration: T(n/2) + T(n/2) + c\n",
    "   - After the second iteration: T(n/4) + T(n/4) + T(n/4) + T(n/4) + c\n",
    "   - After the third iteration: T(n/8) + T(n/8) + ... + T(n/8) + c (There are 8 terms)\n",
    "   - After the fourth iteration: T(n/16) + T(n/16) + ... + T(n/16) + c (There are 16 terms)\n",
    "   - After the kth iteration: T(n/2^k) + T(n/2^k) + ... + T(n/2^k) + c (There are 2^k terms)\n",
    "\n",
    "3. Finding the Base Case:\n",
    "   - Base case: T(1), where n/2^k = 1\n",
    "   - Solving for k: n/2^k = 1, n = 2^k, k = log 2(n)\n",
    "\n",
    "4. Solution:\n",
    "   - At each level of recursion, the work done is c for each element\n",
    "   - Total work: c * n * log_2(n)\n",
    "\n",
    "5. Time Complexity:\n",
    "   - The time complexity of the recurrence relation T(n) = 2T(n/2) + c is O(n log n)\n"
   ]
  },
  {
   "cell_type": "code",
   "execution_count": null,
   "id": "08e0c93e-b121-4334-9eed-1aae84d4ced4",
   "metadata": {},
   "outputs": [],
   "source": [
    "d. T(n) = T(n/2) + c"
   ]
  },
  {
   "cell_type": "code",
   "execution_count": null,
   "id": "dc6836bd-cc9b-4b03-ae10-66e9a47f3248",
   "metadata": {},
   "outputs": [],
   "source": [
    "T(n) = T(n/2)+c ---------(l)\n",
    "T(n/2) = T(n/4)+c \n",
    "T(n) = T(n/4)+2c ---------(ll)\n",
    "T(n/2) = T(n/8)+2c \n",
    "T(n) = T(n/8)+3c ---------(lll)\n",
    "T(n/2) = T(n/16)+3c \n",
    "T(n) = T(n/16)+4c ---------(lV)\n",
    "\n",
    "\n",
    "for k times:\n",
    "    T(n) = T(n/2^k)k*c\n",
    "\n",
    "the biggest complexity is n/2^k = 1\n",
    "or k = log_2 n\n",
    "so, the time complexity is O(log_2 n)\n"
   ]
  },
  {
   "cell_type": "code",
   "execution_count": null,
   "id": "ff74dbf3-e91f-4c94-abde-51573d1ee3db",
   "metadata": {},
   "outputs": [],
   "source": [
    "3. Given a recurrence relation, solve it using the recursive tree approach:"
   ]
  },
  {
   "cell_type": "code",
   "execution_count": null,
   "id": "5ecd7896-294a-4fee-a0b5-c5bcb911d5df",
   "metadata": {},
   "outputs": [],
   "source": [
    "a. T(n) = 2T(n-1) +1"
   ]
  },
  {
   "cell_type": "code",
   "execution_count": null,
   "id": "15dfb125-794b-454d-8ee4-866a16b988ba",
   "metadata": {},
   "outputs": [],
   "source": [
    "Recurrence Relation:\n",
    "T(n) = 2T(n-1) + 1\n",
    "\n",
    "Recursive Tree Approach:\n",
    "\n",
    "1. Base Case:\n",
    "   - T(1) is the base case.\n",
    "\n",
    "2. Recursive Calls:\n",
    "   - At each step, the function makes two recursive calls with (n-1) in each call.\n",
    "\n",
    "3. Recursive Tree:\n",
    "   - The function branches into two recursive calls, creating a binary tree structure.\n",
    "\n",
    "4. Workload at Each Level:\n",
    "   - At each level n, there is a constant workload of 1.\n",
    "\n",
    "5. Summing the Workloads:\n",
    "   - At level 1: 1\n",
    "   - At level 2: 2\n",
    "   - At level 3: 4\n",
    "   - At level i: 2^i\n",
    "\n",
    "6. Time Complexity:\n",
    "   - The total time complexity is the sum of workloads at each level, forming a geometric series.\n",
    "   - The sum of the geometric series is O(2^n).\n"
   ]
  },
  {
   "cell_type": "code",
   "execution_count": null,
   "id": "d953c17d-f8f7-4e2c-b838-d5b138a684d8",
   "metadata": {},
   "outputs": [],
   "source": [
    "b. T(n) = 2T(n/2) + n"
   ]
  },
  {
   "cell_type": "code",
   "execution_count": null,
   "id": "c5e060f1-02ed-422c-bcb0-55998157b4c9",
   "metadata": {},
   "outputs": [],
   "source": []
  }
 ],
 "metadata": {
  "kernelspec": {
   "display_name": "Python 3 (ipykernel)",
   "language": "python",
   "name": "python3"
  },
  "language_info": {
   "codemirror_mode": {
    "name": "ipython",
    "version": 3
   },
   "file_extension": ".py",
   "mimetype": "text/x-python",
   "name": "python",
   "nbconvert_exporter": "python",
   "pygments_lexer": "ipython3",
   "version": "3.10.8"
  }
 },
 "nbformat": 4,
 "nbformat_minor": 5
}
